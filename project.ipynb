{
 "cells": [
  {
   "cell_type": "markdown",
   "id": "a192c632",
   "metadata": {},
   "source": [
    "## Project - Nobel Prize Winners and University Data\n",
    "\n",
    "In this project, data from two different sources is combined to explore connections between Nobel Prize winners and universities. Nobel laureate information is imported from a Kaggle CSV file into a SQLite database. University data is retrieved from DBpedia using a SPARQL query, which is also stored in the same database.\n",
    "\n",
    "To link the datasets, a SQL view is created based on matching university names from both tables. This makes it possible to analyze which universities are associated with Nobel laureates, along with additional information like the number of students and Wikipedia page IDs of the universities.\n",
    "\n",
    "The key column used for linking the two datasets is organizationName in the Nobel laureates data. This field represents the university or research institution where the laureate was affiliated at the time of receiving the Nobel Prize. It is matched against the university names retrieved from DBpedia to establish a connection. For example, entries like Harvard University or Szeged University are used to join the tables and perform further analysis.\n",
    "\n",
    "If this notebook does not render or execute correctly in your environment, it is also available on my GitHub repository: https://github.com/Fab2102/dke_project/blob/main/project.ipynb"
   ]
  },
  {
   "cell_type": "markdown",
   "id": "7bf31655",
   "metadata": {},
   "source": [
    "<br>"
   ]
  },
  {
   "cell_type": "markdown",
   "id": "7aa2b0bb",
   "metadata": {},
   "source": [
    "## Installing and importing all dependencies\n",
    "- SPARQL Wrapper\n",
    "    - to query SPARQL endpoints like DBpedia\n",
    "\n",
    "- sqlite3\n",
    "    - to work with local SQL databases\n",
    "\n",
    "- pandas\n",
    "    - to handle and analyze CSV data"
   ]
  },
  {
   "cell_type": "code",
   "execution_count": null,
   "id": "7058f8d4",
   "metadata": {},
   "outputs": [],
   "source": [
    "%pip install SPARQLWrapper\n",
    "%pip install pandas"
   ]
  },
  {
   "cell_type": "code",
   "execution_count": null,
   "id": "eb89bcfe",
   "metadata": {},
   "outputs": [],
   "source": [
    "from SPARQLWrapper import SPARQLWrapper, JSON\n",
    "import sqlite3 \n",
    "import pandas as pd"
   ]
  },
  {
   "cell_type": "markdown",
   "id": "7285f978",
   "metadata": {},
   "source": [
    "<br>"
   ]
  },
  {
   "cell_type": "markdown",
   "id": "b2d590ec",
   "metadata": {},
   "source": [
    "## Load SQL Extension and create/connect to SQLite Database\n",
    "\n",
    "- Enabling SQL magic commands in jupyter\n",
    "\n",
    "- Creating an SQL Lite database named \"data.db\"\n",
    "\n",
    "- Creating a python connection object for programmatic access"
   ]
  },
  {
   "cell_type": "code",
   "execution_count": null,
   "id": "39b0353f",
   "metadata": {},
   "outputs": [],
   "source": [
    "%load_ext sql\n",
    "%sql sqlite:///data.db"
   ]
  },
  {
   "cell_type": "code",
   "execution_count": null,
   "id": "2da931f1",
   "metadata": {},
   "outputs": [],
   "source": [
    "conn = sqlite3.connect('data.db')"
   ]
  },
  {
   "cell_type": "markdown",
   "id": "b18c59bf",
   "metadata": {},
   "source": [
    "<br><br><br>"
   ]
  },
  {
   "cell_type": "markdown",
   "id": "ca10272a",
   "metadata": {},
   "source": [
    "# CSV data\n",
    "The dataset `\"Nobel Prize Winners: 1901 to 2023\"` is loaded in with pandas and then turned into an SQL table. This makes it easier to join with RDF data from a SPARQL query later on. The dataset was downloaded from Kaggle and can be found [here](https://www.kaggle.com/datasets/sazidthe1/nobel-prize-data)."
   ]
  },
  {
   "cell_type": "markdown",
   "id": "660692c0",
   "metadata": {},
   "source": [
    "<br>"
   ]
  },
  {
   "cell_type": "markdown",
   "id": "36161aae",
   "metadata": {},
   "source": [
    "## Processing CSV\n",
    "\n",
    "- Keep only the following 4 columns: `year`, `category`, `fullName`, `organizationName` \n",
    "\n",
    "- Transforming the pandas DataFrame into an SQL Table named \"nobel\"\n",
    "\n",
    "- Printing out the pandas DataFrame"
   ]
  },
  {
   "cell_type": "code",
   "execution_count": null,
   "id": "bd962346",
   "metadata": {},
   "outputs": [],
   "source": [
    "df_csv = pd.read_csv(\"nobel_laureates_data.csv\", encoding='utf8').iloc[:, [0, 1, 5, 13]].copy()\n",
    "df_csv.to_sql(\"nobel\", conn, if_exists=\"replace\", index=False)\n",
    "df_csv"
   ]
  },
  {
   "cell_type": "markdown",
   "id": "40d21bc2",
   "metadata": {},
   "source": [
    "<br>"
   ]
  },
  {
   "cell_type": "markdown",
   "id": "fa009fb0",
   "metadata": {},
   "source": [
    "## Showing CSV data via SQL query\n",
    "\n",
    "The following SQL query returns the first 10 rows from the `nobel` table."
   ]
  },
  {
   "cell_type": "code",
   "execution_count": null,
   "id": "5fe6931d",
   "metadata": {},
   "outputs": [],
   "source": [
    "%sql select * from nobel limit 10;"
   ]
  },
  {
   "cell_type": "markdown",
   "id": "9ef9bb26",
   "metadata": {},
   "source": [
    "<br><br><br>"
   ]
  },
  {
   "cell_type": "markdown",
   "id": "04172084",
   "metadata": {},
   "source": [
    "# RDF data\n",
    "\n",
    "In this section, RDF data is retrieved from the DBpedia SPARQL endpoint. The query fetches information about universities, including their English names, the number of students and their Wikipedia page IDs."
   ]
  },
  {
   "cell_type": "markdown",
   "id": "dc36f7fc",
   "metadata": {},
   "source": [
    "<br>"
   ]
  },
  {
   "cell_type": "markdown",
   "id": "8c97e1a3",
   "metadata": {},
   "source": [
    "## Reading in DBpedia data via SPARQL\n",
    "\n",
    "- Connects to the DBpedia SPARQL endpoint by using `SPARQLWrapper`\n",
    "\n",
    "- Queries following information: `universityName`, `numStudents` and `wikiPageID`\n",
    "\n",
    "- Returns results in a JSON format and prints out the first 10 entries"
   ]
  },
  {
   "cell_type": "code",
   "execution_count": null,
   "id": "93565e82",
   "metadata": {},
   "outputs": [],
   "source": [
    "sparql = SPARQLWrapper(\"https://dbpedia.org/sparql\")\n",
    "\n",
    "sparql.setQuery(\"\"\"\n",
    "PREFIX rdf:  <http://www.w3.org/1999/02/22-rdf-syntax-ns#>\n",
    "PREFIX rdfs: <http://www.w3.org/2000/01/rdf-schema#>\n",
    "PREFIX dbo:  <http://dbpedia.org/ontology/>\n",
    "\n",
    "SELECT DISTINCT\n",
    "  ?universityName\n",
    "  ?numStudents\n",
    "  ?wikiPageID\n",
    "WHERE {\n",
    "  ?university rdf:type dbo:University .\n",
    "  ?university rdfs:label ?universityName .\n",
    "  ?university dbo:numberOfStudents ?numStudents .\n",
    "  ?university dbo:wikiPageID ?wikiPageID .\n",
    "  FILTER(lang(?universityName) = \"en\")\n",
    "}\n",
    "\"\"\")\n",
    "\n",
    "sparql.setReturnFormat(JSON)\n",
    "results = sparql.query().convert()[\"results\"][\"bindings\"]\n",
    "\n",
    "for res in results[:10]:\n",
    "    name = res[\"universityName\"][\"value\"]\n",
    "    num_students = res[\"numStudents\"][\"value\"]\n",
    "    wiki_id = res[\"wikiPageID\"][\"value\"]\n",
    "    print(f\"{name}, {num_students}, {wiki_id}\")\n"
   ]
  },
  {
   "cell_type": "markdown",
   "id": "d235fad3",
   "metadata": {},
   "source": [
    "<br>"
   ]
  },
  {
   "cell_type": "markdown",
   "id": "dda1d0b1",
   "metadata": {},
   "source": [
    "## Transforming RDF data to CSV/SQL\n",
    "\n",
    "- Uses a list comprehension to convert the SPARQL results into a pandas DataFrame\n",
    "\n",
    "- Saves the DataFrame as a CSV file called `universites.csv`\n",
    "\n",
    "- Transforms the CSV into an SQL Table called `universities`\n",
    "\n",
    "- Printing out the pandas DataFrame\n"
   ]
  },
  {
   "cell_type": "code",
   "execution_count": null,
   "id": "c2340981",
   "metadata": {},
   "outputs": [],
   "source": [
    "df_rdf = pd.DataFrame([{\n",
    "    \"UniversityName\": res[\"universityName\"][\"value\"],\n",
    "    \"NumStudents\": res.get(\"numStudents\", {}).get(\"value\", \"\"),\n",
    "    \"WikiPageID\": res.get(\"wikiPageID\", {}).get(\"value\", \"\")\n",
    "} for res in results])\n",
    "\n",
    "df_rdf.to_csv(\"universites.csv\", sep=\";\", index=False, encoding=\"utf8\")\n",
    "pd.read_csv(\"universites.csv\", delimiter=\";\").to_sql(\"universities\", conn, if_exists=\"replace\", index=False);\n",
    "\n",
    "df_rdf\n"
   ]
  },
  {
   "cell_type": "markdown",
   "id": "090ecb96",
   "metadata": {},
   "source": [
    "<br>"
   ]
  },
  {
   "cell_type": "markdown",
   "id": "f23fb7bf",
   "metadata": {},
   "source": [
    "## Showing RDF data via SQL query\n",
    "Displays the first 10 rows from the `universities` table to preview the imported RDF data"
   ]
  },
  {
   "cell_type": "code",
   "execution_count": null,
   "id": "e9c78e37",
   "metadata": {},
   "outputs": [],
   "source": [
    "%sql select * from universities limit 10;"
   ]
  },
  {
   "cell_type": "markdown",
   "id": "24160437",
   "metadata": {},
   "source": [
    "<br><br><br>"
   ]
  },
  {
   "cell_type": "markdown",
   "id": "23d754fe",
   "metadata": {},
   "source": [
    "# Combining CSV + RDF\n",
    "\n",
    "- Drops the view `nobel_universities` if it already exists for safety reasons\n",
    "\n",
    "- Creates a new SQL view by joining Nobel Prize winners (CSV) with university data (RDF) on matching University Names\n",
    "\n",
    "- Displays the first 10 rows from the joined view for a quick preview"
   ]
  },
  {
   "cell_type": "code",
   "execution_count": null,
   "id": "8eef7b10",
   "metadata": {},
   "outputs": [],
   "source": [
    "%%sql\n",
    "\n",
    "DROP VIEW IF EXISTS nobel_universities;\n",
    "\n",
    "CREATE VIEW nobel_universities AS\n",
    "SELECT a.year, a.category, a.fullName, b.UniversityName, b.NumStudents, b.WikiPageID\n",
    "FROM nobel a\n",
    "JOIN universities b ON a.organizationName = b.UniversityName;\n",
    "\n",
    "SELECT * FROM nobel_universities LIMIT 10;\n"
   ]
  },
  {
   "cell_type": "markdown",
   "id": "0e3d8925",
   "metadata": {},
   "source": [
    "# 5 complex queries"
   ]
  },
  {
   "cell_type": "markdown",
   "id": "1327440a",
   "metadata": {},
   "source": [
    "### 1. Rank universities by total laureates"
   ]
  },
  {
   "cell_type": "code",
   "execution_count": null,
   "id": "9d2cde69",
   "metadata": {},
   "outputs": [],
   "source": [
    "%%sql\n",
    "\n",
    "SELECT \n",
    "  UniversityName, \n",
    "  COUNT(*) AS laureate_count, \n",
    "  RANK() OVER (ORDER BY COUNT(*) DESC) AS rank\n",
    "FROM nobel_universities\n",
    "GROUP BY UniversityName\n",
    "ORDER BY laureate_count DESC\n",
    "LIMIT 10;\n"
   ]
  },
  {
   "cell_type": "markdown",
   "id": "32cab3e3",
   "metadata": {},
   "source": [
    "### 2. Laureate density per university"
   ]
  },
  {
   "cell_type": "code",
   "execution_count": null,
   "id": "2eabc86d",
   "metadata": {},
   "outputs": [],
   "source": [
    "%%sql\n",
    "\n",
    "SELECT \n",
    "  UniversityName, \n",
    "  COUNT(*) AS laureate_count, \n",
    "  NumStudents,\n",
    "  ROUND(CAST(COUNT(*) AS REAL)/NumStudents, 6) AS laureates_per_student\n",
    "FROM nobel_universities\n",
    "GROUP BY UniversityName, NumStudents\n",
    "HAVING NumStudents > 0\n",
    "ORDER BY laureates_per_student DESC\n",
    "LIMIT 10;\n"
   ]
  },
  {
   "cell_type": "markdown",
   "id": "a8dee065",
   "metadata": {},
   "source": [
    "### 3. Nobel Laureates whose names start with 'C'"
   ]
  },
  {
   "cell_type": "code",
   "execution_count": null,
   "id": "3d690d50",
   "metadata": {},
   "outputs": [],
   "source": [
    "%%sql\n",
    "\n",
    "SELECT \n",
    "  fullName, \n",
    "  category, \n",
    "  UniversityName, \n",
    "  NumStudents, \n",
    "  WikiPageID\n",
    "FROM nobel_universities\n",
    "WHERE UPPER(fullName) LIKE 'C%'\n",
    "LIMIT 10;\n"
   ]
  },
  {
   "cell_type": "markdown",
   "id": "36e96edd",
   "metadata": {},
   "source": [
    "### 4. Universities Ranked by the Number of Distinct Nobel Prize Categories"
   ]
  },
  {
   "cell_type": "code",
   "execution_count": null,
   "id": "168a2372",
   "metadata": {},
   "outputs": [],
   "source": [
    "%%sql\n",
    "\n",
    "SELECT \n",
    "  UniversityName,\n",
    "  COUNT(*) AS total_laureates,\n",
    "  COUNT(DISTINCT category) AS distinct_categories,\n",
    "  GROUP_CONCAT(DISTINCT category) AS categories\n",
    "FROM nobel_universities\n",
    "GROUP BY UniversityName\n",
    "HAVING COUNT(DISTINCT category) > 1\n",
    "ORDER BY distinct_categories DESC, total_laureates DESC\n",
    "LIMIT 10;\n"
   ]
  },
  {
   "cell_type": "markdown",
   "id": "f075ea37",
   "metadata": {},
   "source": [
    "### 5. Top Universities by Nobel Laureate Count per Category"
   ]
  },
  {
   "cell_type": "code",
   "execution_count": null,
   "id": "a4d2d4d3",
   "metadata": {},
   "outputs": [],
   "source": [
    "%%sql\n",
    "\n",
    "SELECT\n",
    "  UniversityName,\n",
    "  category,\n",
    "  PrizeCount\n",
    "FROM (\n",
    "  SELECT\n",
    "    UniversityName,\n",
    "    category,\n",
    "    COUNT(*) AS PrizeCount,\n",
    "    RANK() OVER (PARTITION BY category ORDER BY COUNT(*) DESC) AS rk\n",
    "  FROM nobel_universities\n",
    "  GROUP BY UniversityName, category\n",
    ") t\n",
    "WHERE rk = 1;\n"
   ]
  }
 ],
 "metadata": {
  "kernelspec": {
   "display_name": "Python 3",
   "language": "python",
   "name": "python3"
  },
  "language_info": {
   "codemirror_mode": {
    "name": "ipython",
    "version": 3
   },
   "file_extension": ".py",
   "mimetype": "text/x-python",
   "name": "python",
   "nbconvert_exporter": "python",
   "pygments_lexer": "ipython3",
   "version": "3.13.0"
  }
 },
 "nbformat": 4,
 "nbformat_minor": 5
}
