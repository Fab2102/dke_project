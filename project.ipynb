{
 "cells": [
  {
   "cell_type": "markdown",
   "id": "a192c632",
   "metadata": {},
   "source": [
    "## Project - Nobel Prize Winners and University Data\n",
    "\n",
    "In this project, data from two different sources is combined to explore connections between Nobel Prize winners and universities. Nobel laureate information is imported from a Kaggle CSV file into a SQLite database. University data is retrieved from DBpedia using a SPARQL query which also stored in the same database.\n",
    "\n",
    "To link the datasets, a SQL view is created based on matching university names from both tables. This makes it possible to analyze which universities are associated with Nobel laureates, along with additional information like the number of students and Wikipedia page IDs of the universities.\n",
    "\n",
    "If this notebook does not display correctly, it is also available on my GitHub repository: https://github.com/Fab2102/dke_project."
   ]
  },
  {
   "cell_type": "markdown",
   "id": "7bf31655",
   "metadata": {},
   "source": [
    "<br>"
   ]
  },
  {
   "cell_type": "markdown",
   "id": "7aa2b0bb",
   "metadata": {},
   "source": [
    "## Installing and importing all dependencies\n",
    "- SPARQL Wrapper\n",
    "    - to query SPARQL endpoints like DBpedia\n",
    "\n",
    "- sqlite3\n",
    "    - to work with local SQL databases\n",
    "\n",
    "- pandas\n",
    "    - to handle and analyze CSV data"
   ]
  },
  {
   "cell_type": "code",
   "execution_count": 1,
   "id": "7058f8d4",
   "metadata": {},
   "outputs": [
    {
     "name": "stdout",
     "output_type": "stream",
     "text": [
      "Requirement already satisfied: SPARQLWrapper in /Library/Frameworks/Python.framework/Versions/3.13/lib/python3.13/site-packages (2.0.0)\n",
      "Requirement already satisfied: rdflib>=6.1.1 in /Library/Frameworks/Python.framework/Versions/3.13/lib/python3.13/site-packages (from SPARQLWrapper) (7.1.4)\n",
      "Requirement already satisfied: pyparsing<4,>=2.1.0 in /Library/Frameworks/Python.framework/Versions/3.13/lib/python3.13/site-packages (from rdflib>=6.1.1->SPARQLWrapper) (3.2.0)\n",
      "\n",
      "\u001b[1m[\u001b[0m\u001b[34;49mnotice\u001b[0m\u001b[1;39;49m]\u001b[0m\u001b[39;49m A new release of pip is available: \u001b[0m\u001b[31;49m25.0.1\u001b[0m\u001b[39;49m -> \u001b[0m\u001b[32;49m25.1.1\u001b[0m\n",
      "\u001b[1m[\u001b[0m\u001b[34;49mnotice\u001b[0m\u001b[1;39;49m]\u001b[0m\u001b[39;49m To update, run: \u001b[0m\u001b[32;49mpip install --upgrade pip\u001b[0m\n",
      "Note: you may need to restart the kernel to use updated packages.\n",
      "Requirement already satisfied: pandas in /Library/Frameworks/Python.framework/Versions/3.13/lib/python3.13/site-packages (2.2.3)\n",
      "Requirement already satisfied: numpy>=1.26.0 in /Library/Frameworks/Python.framework/Versions/3.13/lib/python3.13/site-packages (from pandas) (2.1.2)\n",
      "Requirement already satisfied: python-dateutil>=2.8.2 in /Library/Frameworks/Python.framework/Versions/3.13/lib/python3.13/site-packages (from pandas) (2.9.0.post0)\n",
      "Requirement already satisfied: pytz>=2020.1 in /Library/Frameworks/Python.framework/Versions/3.13/lib/python3.13/site-packages (from pandas) (2024.2)\n",
      "Requirement already satisfied: tzdata>=2022.7 in /Library/Frameworks/Python.framework/Versions/3.13/lib/python3.13/site-packages (from pandas) (2024.2)\n",
      "Requirement already satisfied: six>=1.5 in /Library/Frameworks/Python.framework/Versions/3.13/lib/python3.13/site-packages (from python-dateutil>=2.8.2->pandas) (1.16.0)\n",
      "\n",
      "\u001b[1m[\u001b[0m\u001b[34;49mnotice\u001b[0m\u001b[1;39;49m]\u001b[0m\u001b[39;49m A new release of pip is available: \u001b[0m\u001b[31;49m25.0.1\u001b[0m\u001b[39;49m -> \u001b[0m\u001b[32;49m25.1.1\u001b[0m\n",
      "\u001b[1m[\u001b[0m\u001b[34;49mnotice\u001b[0m\u001b[1;39;49m]\u001b[0m\u001b[39;49m To update, run: \u001b[0m\u001b[32;49mpip install --upgrade pip\u001b[0m\n",
      "Note: you may need to restart the kernel to use updated packages.\n"
     ]
    }
   ],
   "source": [
    "%pip install SPARQLWrapper\n",
    "%pip install pandas"
   ]
  },
  {
   "cell_type": "code",
   "execution_count": 2,
   "id": "eb89bcfe",
   "metadata": {},
   "outputs": [],
   "source": [
    "from SPARQLWrapper import SPARQLWrapper, JSON\n",
    "import sqlite3 \n",
    "import pandas as pd"
   ]
  },
  {
   "cell_type": "markdown",
   "id": "7285f978",
   "metadata": {},
   "source": [
    "<br>"
   ]
  },
  {
   "cell_type": "markdown",
   "id": "b2d590ec",
   "metadata": {},
   "source": [
    "## Load SQL Extension and create/connect to SQLite Database\n",
    "\n",
    "- Enabling SQL magic commands in jupyter\n",
    "\n",
    "- Creating an SQL Lite database named \"data.db\"\n",
    "\n",
    "- Creating a python connection object for programmatic access"
   ]
  },
  {
   "cell_type": "code",
   "execution_count": 3,
   "id": "39b0353f",
   "metadata": {},
   "outputs": [],
   "source": [
    "%load_ext sql\n",
    "%sql sqlite:///data.db"
   ]
  },
  {
   "cell_type": "code",
   "execution_count": 4,
   "id": "2da931f1",
   "metadata": {},
   "outputs": [],
   "source": [
    "conn = sqlite3.connect('data.db')"
   ]
  },
  {
   "cell_type": "markdown",
   "id": "b18c59bf",
   "metadata": {},
   "source": [
    "<br><br><br>"
   ]
  },
  {
   "cell_type": "markdown",
   "id": "ca10272a",
   "metadata": {},
   "source": [
    "# CSV data\n",
    "The dataset `\"Nobel Prize Winners: 1901 to 2023\"` is loaded in with pandas and then turned into an SQL table. This makes it easier to join with RDF data from a SPARQL query later on. The dataset was downloaded from Kaggle and can be found [here](https://www.kaggle.com/datasets/sazidthe1/nobel-prize-data)."
   ]
  },
  {
   "cell_type": "markdown",
   "id": "660692c0",
   "metadata": {},
   "source": [
    "<br>"
   ]
  },
  {
   "cell_type": "markdown",
   "id": "36161aae",
   "metadata": {},
   "source": [
    "## Processing CSV\n",
    "\n",
    "- Keep only the following 4 columns: `year`, `category`, `fullName`, `organizationName` \n",
    "\n",
    "- Transforming the pandas DataFrame into an SQL Table named \"nobel\"\n",
    "\n",
    "- Printing out the pandas DataFrame"
   ]
  },
  {
   "cell_type": "code",
   "execution_count": 5,
   "id": "bd962346",
   "metadata": {},
   "outputs": [
    {
     "data": {
      "text/html": [
       "<div>\n",
       "<style scoped>\n",
       "    .dataframe tbody tr th:only-of-type {\n",
       "        vertical-align: middle;\n",
       "    }\n",
       "\n",
       "    .dataframe tbody tr th {\n",
       "        vertical-align: top;\n",
       "    }\n",
       "\n",
       "    .dataframe thead th {\n",
       "        text-align: right;\n",
       "    }\n",
       "</style>\n",
       "<table border=\"1\" class=\"dataframe\">\n",
       "  <thead>\n",
       "    <tr style=\"text-align: right;\">\n",
       "      <th></th>\n",
       "      <th>year</th>\n",
       "      <th>category</th>\n",
       "      <th>fullName</th>\n",
       "      <th>organizationName</th>\n",
       "    </tr>\n",
       "  </thead>\n",
       "  <tbody>\n",
       "    <tr>\n",
       "      <th>0</th>\n",
       "      <td>2023</td>\n",
       "      <td>medicine</td>\n",
       "      <td>Katalin Kariko</td>\n",
       "      <td>Szeged University</td>\n",
       "    </tr>\n",
       "    <tr>\n",
       "      <th>1</th>\n",
       "      <td>2023</td>\n",
       "      <td>economics</td>\n",
       "      <td>Claudia Goldin</td>\n",
       "      <td>Harvard University</td>\n",
       "    </tr>\n",
       "    <tr>\n",
       "      <th>2</th>\n",
       "      <td>2023</td>\n",
       "      <td>peace</td>\n",
       "      <td>Narges Mohammadi</td>\n",
       "      <td>NaN</td>\n",
       "    </tr>\n",
       "    <tr>\n",
       "      <th>3</th>\n",
       "      <td>2023</td>\n",
       "      <td>literature</td>\n",
       "      <td>Jon Fosse</td>\n",
       "      <td>NaN</td>\n",
       "    </tr>\n",
       "    <tr>\n",
       "      <th>4</th>\n",
       "      <td>2023</td>\n",
       "      <td>chemistry</td>\n",
       "      <td>Alexei Ekimov</td>\n",
       "      <td>Nanocrystals Technology Inc.</td>\n",
       "    </tr>\n",
       "    <tr>\n",
       "      <th>...</th>\n",
       "      <td>...</td>\n",
       "      <td>...</td>\n",
       "      <td>...</td>\n",
       "      <td>...</td>\n",
       "    </tr>\n",
       "    <tr>\n",
       "      <th>995</th>\n",
       "      <td>1901</td>\n",
       "      <td>peace</td>\n",
       "      <td>Frederic Passy</td>\n",
       "      <td>NaN</td>\n",
       "    </tr>\n",
       "    <tr>\n",
       "      <th>996</th>\n",
       "      <td>1901</td>\n",
       "      <td>peace</td>\n",
       "      <td>Henry Dunant</td>\n",
       "      <td>NaN</td>\n",
       "    </tr>\n",
       "    <tr>\n",
       "      <th>997</th>\n",
       "      <td>1901</td>\n",
       "      <td>medicine</td>\n",
       "      <td>Emil von Behring</td>\n",
       "      <td>Marburg University</td>\n",
       "    </tr>\n",
       "    <tr>\n",
       "      <th>998</th>\n",
       "      <td>1901</td>\n",
       "      <td>chemistry</td>\n",
       "      <td>Jacobus H. van 't Hoff</td>\n",
       "      <td>Berlin University</td>\n",
       "    </tr>\n",
       "    <tr>\n",
       "      <th>999</th>\n",
       "      <td>1901</td>\n",
       "      <td>physics</td>\n",
       "      <td>Wilhelm Conrad Rontgen</td>\n",
       "      <td>Munich University</td>\n",
       "    </tr>\n",
       "  </tbody>\n",
       "</table>\n",
       "<p>1000 rows × 4 columns</p>\n",
       "</div>"
      ],
      "text/plain": [
       "     year    category                fullName              organizationName\n",
       "0    2023    medicine          Katalin Kariko             Szeged University\n",
       "1    2023   economics          Claudia Goldin            Harvard University\n",
       "2    2023       peace        Narges Mohammadi                           NaN\n",
       "3    2023  literature               Jon Fosse                           NaN\n",
       "4    2023   chemistry           Alexei Ekimov  Nanocrystals Technology Inc.\n",
       "..    ...         ...                     ...                           ...\n",
       "995  1901       peace          Frederic Passy                           NaN\n",
       "996  1901       peace            Henry Dunant                           NaN\n",
       "997  1901    medicine        Emil von Behring            Marburg University\n",
       "998  1901   chemistry  Jacobus H. van 't Hoff             Berlin University\n",
       "999  1901     physics  Wilhelm Conrad Rontgen             Munich University\n",
       "\n",
       "[1000 rows x 4 columns]"
      ]
     },
     "execution_count": 5,
     "metadata": {},
     "output_type": "execute_result"
    }
   ],
   "source": [
    "df_csv = pd.read_csv(\"nobel_laureates_data.csv\", encoding='utf8').iloc[:, [0, 1, 5, 13]].copy()\n",
    "df_csv.to_sql(\"nobel\", conn, if_exists=\"replace\", index=False)\n",
    "df_csv"
   ]
  },
  {
   "cell_type": "markdown",
   "id": "40d21bc2",
   "metadata": {},
   "source": [
    "<br>"
   ]
  },
  {
   "cell_type": "markdown",
   "id": "fa009fb0",
   "metadata": {},
   "source": [
    "## Showing CSV data via SQL query\n",
    "\n",
    "The following SQL query returns the first 10 rows from the `nobel` table."
   ]
  },
  {
   "cell_type": "code",
   "execution_count": 6,
   "id": "5fe6931d",
   "metadata": {},
   "outputs": [
    {
     "name": "stdout",
     "output_type": "stream",
     "text": [
      " * sqlite:///data.db\n",
      "Done.\n"
     ]
    },
    {
     "data": {
      "text/html": [
       "<table>\n",
       "    <thead>\n",
       "        <tr>\n",
       "            <th>year</th>\n",
       "            <th>category</th>\n",
       "            <th>fullName</th>\n",
       "            <th>organizationName</th>\n",
       "        </tr>\n",
       "    </thead>\n",
       "    <tbody>\n",
       "        <tr>\n",
       "            <td>2023</td>\n",
       "            <td>medicine</td>\n",
       "            <td>Katalin Kariko</td>\n",
       "            <td>Szeged University</td>\n",
       "        </tr>\n",
       "        <tr>\n",
       "            <td>2023</td>\n",
       "            <td>economics</td>\n",
       "            <td>Claudia Goldin</td>\n",
       "            <td>Harvard University</td>\n",
       "        </tr>\n",
       "        <tr>\n",
       "            <td>2023</td>\n",
       "            <td>peace</td>\n",
       "            <td>Narges Mohammadi</td>\n",
       "            <td>None</td>\n",
       "        </tr>\n",
       "        <tr>\n",
       "            <td>2023</td>\n",
       "            <td>literature</td>\n",
       "            <td>Jon Fosse</td>\n",
       "            <td>None</td>\n",
       "        </tr>\n",
       "        <tr>\n",
       "            <td>2023</td>\n",
       "            <td>chemistry</td>\n",
       "            <td>Alexei Ekimov</td>\n",
       "            <td>Nanocrystals Technology Inc.</td>\n",
       "        </tr>\n",
       "        <tr>\n",
       "            <td>2023</td>\n",
       "            <td>chemistry</td>\n",
       "            <td>Louis Brus</td>\n",
       "            <td>Columbia University</td>\n",
       "        </tr>\n",
       "        <tr>\n",
       "            <td>2023</td>\n",
       "            <td>chemistry</td>\n",
       "            <td>Moungi Bawendi</td>\n",
       "            <td>Massachusetts Institute of Technology (MIT)</td>\n",
       "        </tr>\n",
       "        <tr>\n",
       "            <td>2023</td>\n",
       "            <td>physics</td>\n",
       "            <td>Anne L Huillier</td>\n",
       "            <td>Lund University</td>\n",
       "        </tr>\n",
       "        <tr>\n",
       "            <td>2023</td>\n",
       "            <td>physics</td>\n",
       "            <td>Ferenc Krausz</td>\n",
       "            <td>Max Planck Institute of Quantum Optics</td>\n",
       "        </tr>\n",
       "        <tr>\n",
       "            <td>2023</td>\n",
       "            <td>physics</td>\n",
       "            <td>Pierre Agostini</td>\n",
       "            <td>The Ohio State University</td>\n",
       "        </tr>\n",
       "    </tbody>\n",
       "</table>"
      ],
      "text/plain": [
       "[(2023, 'medicine', 'Katalin Kariko', 'Szeged University'),\n",
       " (2023, 'economics', 'Claudia Goldin', 'Harvard University'),\n",
       " (2023, 'peace', 'Narges Mohammadi', None),\n",
       " (2023, 'literature', 'Jon Fosse', None),\n",
       " (2023, 'chemistry', 'Alexei Ekimov', 'Nanocrystals Technology Inc.'),\n",
       " (2023, 'chemistry', 'Louis Brus', 'Columbia University'),\n",
       " (2023, 'chemistry', 'Moungi Bawendi', 'Massachusetts Institute of Technology (MIT)'),\n",
       " (2023, 'physics', 'Anne L Huillier', 'Lund University'),\n",
       " (2023, 'physics', 'Ferenc Krausz', 'Max Planck Institute of Quantum Optics'),\n",
       " (2023, 'physics', 'Pierre Agostini', 'The Ohio State University')]"
      ]
     },
     "execution_count": 6,
     "metadata": {},
     "output_type": "execute_result"
    }
   ],
   "source": [
    "%sql select * from nobel limit 10;"
   ]
  },
  {
   "cell_type": "markdown",
   "id": "9ef9bb26",
   "metadata": {},
   "source": [
    "<br><br><br>"
   ]
  },
  {
   "cell_type": "markdown",
   "id": "04172084",
   "metadata": {},
   "source": [
    "# RDF data\n",
    "\n",
    "In this section, RDF data is retrieved from the DBpedia SPARQL endpoint. The query fetches information about universities, including their English names, the number of students and their Wikipedia page IDs."
   ]
  },
  {
   "cell_type": "markdown",
   "id": "dc36f7fc",
   "metadata": {},
   "source": [
    "<br>"
   ]
  },
  {
   "cell_type": "markdown",
   "id": "8c97e1a3",
   "metadata": {},
   "source": [
    "## Reading in DBpedia data via SPARQL\n",
    "\n",
    "- Connects to the DBpedia SPARQL endpoint by using `SPARQLWrapper`\n",
    "\n",
    "- Queries following information: `universityName`, `numStudents` and `wikiPageID`\n",
    "\n",
    "- Returns results in a JSON format and prints out the first 10 entries"
   ]
  },
  {
   "cell_type": "code",
   "execution_count": 7,
   "id": "93565e82",
   "metadata": {},
   "outputs": [
    {
     "name": "stdout",
     "output_type": "stream",
     "text": [
      "Ca' Foscari University of Venice, 21000, 463087\n",
      "Cabrillo College, 11033, 1615527\n",
      "Cadet College Rawalpindi, 350, 42402295\n",
      "Cadi Ayyad University, 102000, 37478842\n",
      "Cairn University, 1558, 19575612\n",
      "Cairo University, 231584, 609874\n",
      "Cal Poly Pomona College of Business Administration, 4919, 19360211\n",
      "Cal Poly Pomona College of Education and Integrative Studies, 1489, 19360252\n",
      "Cal Poly Pomona College of Engineering, 5858, 4540702\n",
      "Cal Poly Pomona College of Environmental Design, 1632, 19360061\n"
     ]
    }
   ],
   "source": [
    "sparql = SPARQLWrapper(\"https://dbpedia.org/sparql\")\n",
    "\n",
    "sparql.setQuery(\"\"\"\n",
    "PREFIX rdf:  <http://www.w3.org/1999/02/22-rdf-syntax-ns#>\n",
    "PREFIX rdfs: <http://www.w3.org/2000/01/rdf-schema#>\n",
    "PREFIX dbo:  <http://dbpedia.org/ontology/>\n",
    "\n",
    "SELECT DISTINCT\n",
    "  ?universityName\n",
    "  ?numStudents\n",
    "  ?wikiPageID\n",
    "WHERE {\n",
    "  ?university rdf:type dbo:University .\n",
    "  ?university rdfs:label ?universityName .\n",
    "  ?university dbo:numberOfStudents ?numStudents .\n",
    "  ?university dbo:wikiPageID ?wikiPageID .\n",
    "  FILTER(lang(?universityName) = \"en\")\n",
    "}\n",
    "\"\"\")\n",
    "\n",
    "sparql.setReturnFormat(JSON)\n",
    "results = sparql.query().convert()[\"results\"][\"bindings\"]\n",
    "\n",
    "for res in results[:10]:\n",
    "    name = res[\"universityName\"][\"value\"]\n",
    "    num_students = res[\"numStudents\"][\"value\"]\n",
    "    wiki_id = res[\"wikiPageID\"][\"value\"]\n",
    "    print(f\"{name}, {num_students}, {wiki_id}\")\n"
   ]
  },
  {
   "cell_type": "markdown",
   "id": "d235fad3",
   "metadata": {},
   "source": [
    "<br>"
   ]
  },
  {
   "cell_type": "markdown",
   "id": "dda1d0b1",
   "metadata": {},
   "source": [
    "## Transforming RDF data to CSV/SQL\n",
    "\n",
    "- Uses a list comprehension to convert the SPARQL results into a pandas DataFrame\n",
    "\n",
    "- Saves the DataFrame as a CSV file called `universites.csv`\n",
    "\n",
    "- Transforms the CSV into an SQL Table called `universities`\n",
    "\n",
    "- Printing out the pandas DataFrame\n"
   ]
  },
  {
   "cell_type": "code",
   "execution_count": 8,
   "id": "c2340981",
   "metadata": {},
   "outputs": [
    {
     "data": {
      "text/html": [
       "<div>\n",
       "<style scoped>\n",
       "    .dataframe tbody tr th:only-of-type {\n",
       "        vertical-align: middle;\n",
       "    }\n",
       "\n",
       "    .dataframe tbody tr th {\n",
       "        vertical-align: top;\n",
       "    }\n",
       "\n",
       "    .dataframe thead th {\n",
       "        text-align: right;\n",
       "    }\n",
       "</style>\n",
       "<table border=\"1\" class=\"dataframe\">\n",
       "  <thead>\n",
       "    <tr style=\"text-align: right;\">\n",
       "      <th></th>\n",
       "      <th>UniversityName</th>\n",
       "      <th>NumStudents</th>\n",
       "      <th>WikiPageID</th>\n",
       "    </tr>\n",
       "  </thead>\n",
       "  <tbody>\n",
       "    <tr>\n",
       "      <th>0</th>\n",
       "      <td>Ca' Foscari University of Venice</td>\n",
       "      <td>21000</td>\n",
       "      <td>463087</td>\n",
       "    </tr>\n",
       "    <tr>\n",
       "      <th>1</th>\n",
       "      <td>Cabrillo College</td>\n",
       "      <td>11033</td>\n",
       "      <td>1615527</td>\n",
       "    </tr>\n",
       "    <tr>\n",
       "      <th>2</th>\n",
       "      <td>Cadet College Rawalpindi</td>\n",
       "      <td>350</td>\n",
       "      <td>42402295</td>\n",
       "    </tr>\n",
       "    <tr>\n",
       "      <th>3</th>\n",
       "      <td>Cadi Ayyad University</td>\n",
       "      <td>102000</td>\n",
       "      <td>37478842</td>\n",
       "    </tr>\n",
       "    <tr>\n",
       "      <th>4</th>\n",
       "      <td>Cairn University</td>\n",
       "      <td>1558</td>\n",
       "      <td>19575612</td>\n",
       "    </tr>\n",
       "    <tr>\n",
       "      <th>...</th>\n",
       "      <td>...</td>\n",
       "      <td>...</td>\n",
       "      <td>...</td>\n",
       "    </tr>\n",
       "    <tr>\n",
       "      <th>9517</th>\n",
       "      <td>Talimuddin Inter College</td>\n",
       "      <td>6000</td>\n",
       "      <td>47065856</td>\n",
       "    </tr>\n",
       "    <tr>\n",
       "      <th>9518</th>\n",
       "      <td>TUM Department of Sport and Health Sciences</td>\n",
       "      <td>2228</td>\n",
       "      <td>66184710</td>\n",
       "    </tr>\n",
       "    <tr>\n",
       "      <th>9519</th>\n",
       "      <td>TUM School of Medicine</td>\n",
       "      <td>2180</td>\n",
       "      <td>66184374</td>\n",
       "    </tr>\n",
       "    <tr>\n",
       "      <th>9520</th>\n",
       "      <td>TU Austria</td>\n",
       "      <td>46000</td>\n",
       "      <td>48662412</td>\n",
       "    </tr>\n",
       "    <tr>\n",
       "      <th>9521</th>\n",
       "      <td>Thiagarajar Polytechnic College, Alagappanagar</td>\n",
       "      <td>630</td>\n",
       "      <td>56666527</td>\n",
       "    </tr>\n",
       "  </tbody>\n",
       "</table>\n",
       "<p>9522 rows × 3 columns</p>\n",
       "</div>"
      ],
      "text/plain": [
       "                                      UniversityName NumStudents WikiPageID\n",
       "0                   Ca' Foscari University of Venice       21000     463087\n",
       "1                                   Cabrillo College       11033    1615527\n",
       "2                           Cadet College Rawalpindi         350   42402295\n",
       "3                              Cadi Ayyad University      102000   37478842\n",
       "4                                   Cairn University        1558   19575612\n",
       "...                                              ...         ...        ...\n",
       "9517                        Talimuddin Inter College        6000   47065856\n",
       "9518     TUM Department of Sport and Health Sciences        2228   66184710\n",
       "9519                          TUM School of Medicine        2180   66184374\n",
       "9520                                      TU Austria       46000   48662412\n",
       "9521  Thiagarajar Polytechnic College, Alagappanagar         630   56666527\n",
       "\n",
       "[9522 rows x 3 columns]"
      ]
     },
     "execution_count": 8,
     "metadata": {},
     "output_type": "execute_result"
    }
   ],
   "source": [
    "df_rdf = pd.DataFrame([{\n",
    "    \"UniversityName\": res[\"universityName\"][\"value\"],\n",
    "    \"NumStudents\": res.get(\"numStudents\", {}).get(\"value\", \"\"),\n",
    "    \"WikiPageID\": res.get(\"wikiPageID\", {}).get(\"value\", \"\")\n",
    "} for res in results])\n",
    "\n",
    "df_rdf.to_csv(\"universites.csv\", sep=\";\", index=False, encoding=\"utf8\")\n",
    "pd.read_csv(\"universites.csv\", delimiter=\";\").to_sql(\"universities\", conn, if_exists=\"replace\", index=False);\n",
    "\n",
    "df_rdf\n"
   ]
  },
  {
   "cell_type": "markdown",
   "id": "090ecb96",
   "metadata": {},
   "source": [
    "<br>"
   ]
  },
  {
   "cell_type": "markdown",
   "id": "f23fb7bf",
   "metadata": {},
   "source": [
    "## Showing RDF data via SQL query\n",
    "Displays the first 10 rows from the `universities` table to preview the imported RDF data"
   ]
  },
  {
   "cell_type": "code",
   "execution_count": 9,
   "id": "e9c78e37",
   "metadata": {},
   "outputs": [
    {
     "name": "stdout",
     "output_type": "stream",
     "text": [
      " * sqlite:///data.db\n",
      "Done.\n"
     ]
    },
    {
     "data": {
      "text/html": [
       "<table>\n",
       "    <thead>\n",
       "        <tr>\n",
       "            <th>UniversityName</th>\n",
       "            <th>NumStudents</th>\n",
       "            <th>WikiPageID</th>\n",
       "        </tr>\n",
       "    </thead>\n",
       "    <tbody>\n",
       "        <tr>\n",
       "            <td>Ca&#x27; Foscari University of Venice</td>\n",
       "            <td>21000</td>\n",
       "            <td>463087</td>\n",
       "        </tr>\n",
       "        <tr>\n",
       "            <td>Cabrillo College</td>\n",
       "            <td>11033</td>\n",
       "            <td>1615527</td>\n",
       "        </tr>\n",
       "        <tr>\n",
       "            <td>Cadet College Rawalpindi</td>\n",
       "            <td>350</td>\n",
       "            <td>42402295</td>\n",
       "        </tr>\n",
       "        <tr>\n",
       "            <td>Cadi Ayyad University</td>\n",
       "            <td>102000</td>\n",
       "            <td>37478842</td>\n",
       "        </tr>\n",
       "        <tr>\n",
       "            <td>Cairn University</td>\n",
       "            <td>1558</td>\n",
       "            <td>19575612</td>\n",
       "        </tr>\n",
       "        <tr>\n",
       "            <td>Cairo University</td>\n",
       "            <td>231584</td>\n",
       "            <td>609874</td>\n",
       "        </tr>\n",
       "        <tr>\n",
       "            <td>Cal Poly Pomona College of Business Administration</td>\n",
       "            <td>4919</td>\n",
       "            <td>19360211</td>\n",
       "        </tr>\n",
       "        <tr>\n",
       "            <td>Cal Poly Pomona College of Education and Integrative Studies</td>\n",
       "            <td>1489</td>\n",
       "            <td>19360252</td>\n",
       "        </tr>\n",
       "        <tr>\n",
       "            <td>Cal Poly Pomona College of Engineering</td>\n",
       "            <td>5858</td>\n",
       "            <td>4540702</td>\n",
       "        </tr>\n",
       "        <tr>\n",
       "            <td>Cal Poly Pomona College of Environmental Design</td>\n",
       "            <td>1632</td>\n",
       "            <td>19360061</td>\n",
       "        </tr>\n",
       "    </tbody>\n",
       "</table>"
      ],
      "text/plain": [
       "[(\"Ca' Foscari University of Venice\", 21000, 463087),\n",
       " ('Cabrillo College', 11033, 1615527),\n",
       " ('Cadet College Rawalpindi', 350, 42402295),\n",
       " ('Cadi Ayyad University', 102000, 37478842),\n",
       " ('Cairn University', 1558, 19575612),\n",
       " ('Cairo University', 231584, 609874),\n",
       " ('Cal Poly Pomona College of Business Administration', 4919, 19360211),\n",
       " ('Cal Poly Pomona College of Education and Integrative Studies', 1489, 19360252),\n",
       " ('Cal Poly Pomona College of Engineering', 5858, 4540702),\n",
       " ('Cal Poly Pomona College of Environmental Design', 1632, 19360061)]"
      ]
     },
     "execution_count": 9,
     "metadata": {},
     "output_type": "execute_result"
    }
   ],
   "source": [
    "%sql select * from universities limit 10;"
   ]
  },
  {
   "cell_type": "markdown",
   "id": "24160437",
   "metadata": {},
   "source": [
    "<br><br><br>"
   ]
  },
  {
   "cell_type": "markdown",
   "id": "23d754fe",
   "metadata": {},
   "source": [
    "# Combining CSV + RDF\n",
    "\n",
    "- Drops the view `nobel_universities` if it already exists for safety reasons\n",
    "\n",
    "- Creates a new SQL view by joining Nobel Prize winners (CSV) with university data (RDF) on matching University Names\n",
    "\n",
    "- Displays the first 10 rows from the joined view for a quick preview"
   ]
  },
  {
   "cell_type": "code",
   "execution_count": 10,
   "id": "8eef7b10",
   "metadata": {},
   "outputs": [
    {
     "name": "stdout",
     "output_type": "stream",
     "text": [
      " * sqlite:///data.db\n",
      "Done.\n",
      "Done.\n",
      "Done.\n"
     ]
    },
    {
     "data": {
      "text/html": [
       "<table>\n",
       "    <thead>\n",
       "        <tr>\n",
       "            <th>year</th>\n",
       "            <th>category</th>\n",
       "            <th>fullName</th>\n",
       "            <th>UniversityName</th>\n",
       "            <th>NumStudents</th>\n",
       "            <th>WikiPageID</th>\n",
       "        </tr>\n",
       "    </thead>\n",
       "    <tbody>\n",
       "        <tr>\n",
       "            <td>2023</td>\n",
       "            <td>economics</td>\n",
       "            <td>Claudia Goldin</td>\n",
       "            <td>Harvard University</td>\n",
       "            <td>19218</td>\n",
       "            <td>18426501</td>\n",
       "        </tr>\n",
       "        <tr>\n",
       "            <td>2023</td>\n",
       "            <td>chemistry</td>\n",
       "            <td>Louis Brus</td>\n",
       "            <td>Columbia University</td>\n",
       "            <td>33413</td>\n",
       "            <td>6310</td>\n",
       "        </tr>\n",
       "        <tr>\n",
       "            <td>2023</td>\n",
       "            <td>physics</td>\n",
       "            <td>Anne L Huillier</td>\n",
       "            <td>Lund University</td>\n",
       "            <td>46000</td>\n",
       "            <td>17843</td>\n",
       "        </tr>\n",
       "        <tr>\n",
       "            <td>2022</td>\n",
       "            <td>economics</td>\n",
       "            <td>Douglas Diamond</td>\n",
       "            <td>University of Chicago</td>\n",
       "            <td>18452</td>\n",
       "            <td>32127</td>\n",
       "        </tr>\n",
       "        <tr>\n",
       "            <td>2022</td>\n",
       "            <td>chemistry</td>\n",
       "            <td>Morten Meldal</td>\n",
       "            <td>University of Copenhagen</td>\n",
       "            <td>37493</td>\n",
       "            <td>176767</td>\n",
       "        </tr>\n",
       "        <tr>\n",
       "            <td>2022</td>\n",
       "            <td>physics</td>\n",
       "            <td>Anton Zeilinger</td>\n",
       "            <td>University of Vienna</td>\n",
       "            <td>91715</td>\n",
       "            <td>53049</td>\n",
       "        </tr>\n",
       "        <tr>\n",
       "            <td>2021</td>\n",
       "            <td>economics</td>\n",
       "            <td>David Card</td>\n",
       "            <td>University of California</td>\n",
       "            <td>294662</td>\n",
       "            <td>31921</td>\n",
       "        </tr>\n",
       "        <tr>\n",
       "            <td>2021</td>\n",
       "            <td>chemistry</td>\n",
       "            <td>David MacMillan</td>\n",
       "            <td>Princeton University</td>\n",
       "            <td>8419</td>\n",
       "            <td>23922</td>\n",
       "        </tr>\n",
       "        <tr>\n",
       "            <td>2021</td>\n",
       "            <td>physics</td>\n",
       "            <td>Giorgio Parisi</td>\n",
       "            <td>Sapienza University of Rome</td>\n",
       "            <td>112564</td>\n",
       "            <td>1222318</td>\n",
       "        </tr>\n",
       "        <tr>\n",
       "            <td>2021</td>\n",
       "            <td>physics</td>\n",
       "            <td>Syukuro Manabe</td>\n",
       "            <td>Princeton University</td>\n",
       "            <td>8419</td>\n",
       "            <td>23922</td>\n",
       "        </tr>\n",
       "    </tbody>\n",
       "</table>"
      ],
      "text/plain": [
       "[(2023, 'economics', 'Claudia Goldin', 'Harvard University', 19218, 18426501),\n",
       " (2023, 'chemistry', 'Louis Brus', 'Columbia University', 33413, 6310),\n",
       " (2023, 'physics', 'Anne L Huillier', 'Lund University', 46000, 17843),\n",
       " (2022, 'economics', 'Douglas Diamond', 'University of Chicago', 18452, 32127),\n",
       " (2022, 'chemistry', 'Morten Meldal', 'University of Copenhagen', 37493, 176767),\n",
       " (2022, 'physics', 'Anton Zeilinger', 'University of Vienna', 91715, 53049),\n",
       " (2021, 'economics', 'David Card', 'University of California', 294662, 31921),\n",
       " (2021, 'chemistry', 'David MacMillan', 'Princeton University', 8419, 23922),\n",
       " (2021, 'physics', 'Giorgio Parisi', 'Sapienza University of Rome', 112564, 1222318),\n",
       " (2021, 'physics', 'Syukuro Manabe', 'Princeton University', 8419, 23922)]"
      ]
     },
     "execution_count": 10,
     "metadata": {},
     "output_type": "execute_result"
    }
   ],
   "source": [
    "%%sql\n",
    "\n",
    "DROP VIEW IF EXISTS nobel_universities;\n",
    "\n",
    "CREATE VIEW nobel_universities AS\n",
    "SELECT a.year, a.category, a.fullName, b.UniversityName, b.NumStudents, b.WikiPageID\n",
    "FROM nobel a\n",
    "JOIN universities b ON a.organizationName = b.UniversityName;\n",
    "\n",
    "SELECT * FROM nobel_universities LIMIT 10;\n"
   ]
  }
 ],
 "metadata": {
  "kernelspec": {
   "display_name": "Python 3",
   "language": "python",
   "name": "python3"
  },
  "language_info": {
   "codemirror_mode": {
    "name": "ipython",
    "version": 3
   },
   "file_extension": ".py",
   "mimetype": "text/x-python",
   "name": "python",
   "nbconvert_exporter": "python",
   "pygments_lexer": "ipython3",
   "version": "3.13.0"
  }
 },
 "nbformat": 4,
 "nbformat_minor": 5
}
